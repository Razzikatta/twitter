{
  "metadata": {
    "toc-showmarkdowntxt": true,
    "toc-autonumbering": true,
    "language_info": {
      "codemirror_mode": {
        "name": "python",
        "version": 3
      },
      "file_extension": ".py",
      "mimetype": "text/x-python",
      "name": "python",
      "nbconvert_exporter": "python",
      "pygments_lexer": "ipython3",
      "version": "3.8"
    },
    "kernelspec": {
      "name": "python",
      "display_name": "Python (Pyodide)",
      "language": "python"
    }
  },
  "nbformat_minor": 4,
  "nbformat": 4,
  "cells": [
    {
      "cell_type": "code",
      "source": "import pandas as pd",
      "metadata": {
        "trusted": true
      },
      "execution_count": 182,
      "outputs": []
    },
    {
      "cell_type": "code",
      "source": "df = pd.read_csv('joined_twitter_data.csv')",
      "metadata": {
        "trusted": true
      },
      "execution_count": 183,
      "outputs": []
    },
    {
      "cell_type": "code",
      "source": "df.head(2)",
      "metadata": {
        "trusted": true
      },
      "execution_count": 184,
      "outputs": [
        {
          "execution_count": 184,
          "output_type": "execute_result",
          "data": {
            "text/plain": "             tweet_id  in_reply_to_status_id  in_reply_to_user_id  \\\n0  892420643555336193                    NaN                  NaN   \n1  892177421306343426                    NaN                  NaN   \n\n                   timestamp  \\\n0  2017-08-01 16:23:56 +0000   \n1  2017-08-01 00:17:27 +0000   \n\n                                              source  \\\n0  <a href=\"http://twitter.com/download/iphone\" r...   \n1  <a href=\"http://twitter.com/download/iphone\" r...   \n\n                                                text  retweeted_status_id  \\\n0  This is Phineas. He's a mystical boy. Only eve...                  NaN   \n1  This is Tilly. She's just checking pup on you....                  NaN   \n\n   retweeted_status_user_id retweeted_status_timestamp  \\\n0                       NaN                        NaN   \n1                       NaN                        NaN   \n\n                                       expanded_urls  ...   p1_conf  p1_dog  \\\n0  https://twitter.com/dog_rates/status/892420643...  ...  0.097049   False   \n1  https://twitter.com/dog_rates/status/892177421...  ...  0.323581    True   \n\n         p2   p2_conf p2_dog        p3   p3_conf p3_dog  retweet_count  \\\n0     bagel  0.085851  False    banana  0.076110  False           8853   \n1  Pekinese  0.090647   True  papillon  0.068957   True           6514   \n\n  favorite_count  \n0          39467  \n1          33819  \n\n[2 rows x 30 columns]",
            "text/html": "<div>\n<style scoped>\n    .dataframe tbody tr th:only-of-type {\n        vertical-align: middle;\n    }\n\n    .dataframe tbody tr th {\n        vertical-align: top;\n    }\n\n    .dataframe thead th {\n        text-align: right;\n    }\n</style>\n<table border=\"1\" class=\"dataframe\">\n  <thead>\n    <tr style=\"text-align: right;\">\n      <th></th>\n      <th>tweet_id</th>\n      <th>in_reply_to_status_id</th>\n      <th>in_reply_to_user_id</th>\n      <th>timestamp</th>\n      <th>source</th>\n      <th>text</th>\n      <th>retweeted_status_id</th>\n      <th>retweeted_status_user_id</th>\n      <th>retweeted_status_timestamp</th>\n      <th>expanded_urls</th>\n      <th>...</th>\n      <th>p1_conf</th>\n      <th>p1_dog</th>\n      <th>p2</th>\n      <th>p2_conf</th>\n      <th>p2_dog</th>\n      <th>p3</th>\n      <th>p3_conf</th>\n      <th>p3_dog</th>\n      <th>retweet_count</th>\n      <th>favorite_count</th>\n    </tr>\n  </thead>\n  <tbody>\n    <tr>\n      <th>0</th>\n      <td>892420643555336193</td>\n      <td>NaN</td>\n      <td>NaN</td>\n      <td>2017-08-01 16:23:56 +0000</td>\n      <td>&lt;a href=\"http://twitter.com/download/iphone\" r...</td>\n      <td>This is Phineas. He's a mystical boy. Only eve...</td>\n      <td>NaN</td>\n      <td>NaN</td>\n      <td>NaN</td>\n      <td>https://twitter.com/dog_rates/status/892420643...</td>\n      <td>...</td>\n      <td>0.097049</td>\n      <td>False</td>\n      <td>bagel</td>\n      <td>0.085851</td>\n      <td>False</td>\n      <td>banana</td>\n      <td>0.076110</td>\n      <td>False</td>\n      <td>8853</td>\n      <td>39467</td>\n    </tr>\n    <tr>\n      <th>1</th>\n      <td>892177421306343426</td>\n      <td>NaN</td>\n      <td>NaN</td>\n      <td>2017-08-01 00:17:27 +0000</td>\n      <td>&lt;a href=\"http://twitter.com/download/iphone\" r...</td>\n      <td>This is Tilly. She's just checking pup on you....</td>\n      <td>NaN</td>\n      <td>NaN</td>\n      <td>NaN</td>\n      <td>https://twitter.com/dog_rates/status/892177421...</td>\n      <td>...</td>\n      <td>0.323581</td>\n      <td>True</td>\n      <td>Pekinese</td>\n      <td>0.090647</td>\n      <td>True</td>\n      <td>papillon</td>\n      <td>0.068957</td>\n      <td>True</td>\n      <td>6514</td>\n      <td>33819</td>\n    </tr>\n  </tbody>\n</table>\n<p>2 rows × 30 columns</p>\n</div>"
          },
          "metadata": {}
        }
      ]
    },
    {
      "cell_type": "code",
      "source": "df.columns",
      "metadata": {
        "trusted": true
      },
      "execution_count": 185,
      "outputs": [
        {
          "execution_count": 185,
          "output_type": "execute_result",
          "data": {
            "text/plain": "Index(['tweet_id', 'in_reply_to_status_id', 'in_reply_to_user_id', 'timestamp',\n       'source', 'text', 'retweeted_status_id', 'retweeted_status_user_id',\n       'retweeted_status_timestamp', 'expanded_urls', 'rating_numerator',\n       'rating_denominator', 'name', 'doggo', 'floofer', 'pupper', 'puppo',\n       'jpg_url', 'img_num', 'p1', 'p1_conf', 'p1_dog', 'p2', 'p2_conf',\n       'p2_dog', 'p3', 'p3_conf', 'p3_dog', 'retweet_count', 'favorite_count'],\n      dtype='object')"
          },
          "metadata": {}
        }
      ]
    },
    {
      "cell_type": "code",
      "source": "df.rename(\n    columns={'p1': 'breed', 'p1_dog': 'is_dog', 'p1_conf': 'dog_confidence'},\n    inplace=True,)",
      "metadata": {
        "trusted": true
      },
      "execution_count": 186,
      "outputs": []
    },
    {
      "cell_type": "code",
      "source": "df.head(1)",
      "metadata": {
        "trusted": true
      },
      "execution_count": 187,
      "outputs": [
        {
          "execution_count": 187,
          "output_type": "execute_result",
          "data": {
            "text/plain": "             tweet_id  in_reply_to_status_id  in_reply_to_user_id  \\\n0  892420643555336193                    NaN                  NaN   \n\n                   timestamp  \\\n0  2017-08-01 16:23:56 +0000   \n\n                                              source  \\\n0  <a href=\"http://twitter.com/download/iphone\" r...   \n\n                                                text  retweeted_status_id  \\\n0  This is Phineas. He's a mystical boy. Only eve...                  NaN   \n\n   retweeted_status_user_id retweeted_status_timestamp  \\\n0                       NaN                        NaN   \n\n                                       expanded_urls  ...  dog_confidence  \\\n0  https://twitter.com/dog_rates/status/892420643...  ...        0.097049   \n\n   is_dog     p2   p2_conf p2_dog      p3  p3_conf p3_dog  retweet_count  \\\n0   False  bagel  0.085851  False  banana  0.07611  False           8853   \n\n  favorite_count  \n0          39467  \n\n[1 rows x 30 columns]",
            "text/html": "<div>\n<style scoped>\n    .dataframe tbody tr th:only-of-type {\n        vertical-align: middle;\n    }\n\n    .dataframe tbody tr th {\n        vertical-align: top;\n    }\n\n    .dataframe thead th {\n        text-align: right;\n    }\n</style>\n<table border=\"1\" class=\"dataframe\">\n  <thead>\n    <tr style=\"text-align: right;\">\n      <th></th>\n      <th>tweet_id</th>\n      <th>in_reply_to_status_id</th>\n      <th>in_reply_to_user_id</th>\n      <th>timestamp</th>\n      <th>source</th>\n      <th>text</th>\n      <th>retweeted_status_id</th>\n      <th>retweeted_status_user_id</th>\n      <th>retweeted_status_timestamp</th>\n      <th>expanded_urls</th>\n      <th>...</th>\n      <th>dog_confidence</th>\n      <th>is_dog</th>\n      <th>p2</th>\n      <th>p2_conf</th>\n      <th>p2_dog</th>\n      <th>p3</th>\n      <th>p3_conf</th>\n      <th>p3_dog</th>\n      <th>retweet_count</th>\n      <th>favorite_count</th>\n    </tr>\n  </thead>\n  <tbody>\n    <tr>\n      <th>0</th>\n      <td>892420643555336193</td>\n      <td>NaN</td>\n      <td>NaN</td>\n      <td>2017-08-01 16:23:56 +0000</td>\n      <td>&lt;a href=\"http://twitter.com/download/iphone\" r...</td>\n      <td>This is Phineas. He's a mystical boy. Only eve...</td>\n      <td>NaN</td>\n      <td>NaN</td>\n      <td>NaN</td>\n      <td>https://twitter.com/dog_rates/status/892420643...</td>\n      <td>...</td>\n      <td>0.097049</td>\n      <td>False</td>\n      <td>bagel</td>\n      <td>0.085851</td>\n      <td>False</td>\n      <td>banana</td>\n      <td>0.07611</td>\n      <td>False</td>\n      <td>8853</td>\n      <td>39467</td>\n    </tr>\n  </tbody>\n</table>\n<p>1 rows × 30 columns</p>\n</div>"
          },
          "metadata": {}
        }
      ]
    },
    {
      "cell_type": "code",
      "source": "df.info()",
      "metadata": {
        "trusted": true
      },
      "execution_count": 188,
      "outputs": [
        {
          "name": "stdout",
          "text": "<class 'pandas.core.frame.DataFrame'>\nRangeIndex: 2073 entries, 0 to 2072\nData columns (total 30 columns):\n #   Column                      Non-Null Count  Dtype  \n---  ------                      --------------  -----  \n 0   tweet_id                    2073 non-null   int64  \n 1   in_reply_to_status_id       23 non-null     float64\n 2   in_reply_to_user_id         23 non-null     float64\n 3   timestamp                   2073 non-null   object \n 4   source                      2073 non-null   object \n 5   text                        2073 non-null   object \n 6   retweeted_status_id         79 non-null     float64\n 7   retweeted_status_user_id    79 non-null     float64\n 8   retweeted_status_timestamp  79 non-null     object \n 9   expanded_urls               2073 non-null   object \n 10  rating_numerator            2073 non-null   int64  \n 11  rating_denominator          2073 non-null   int64  \n 12  name                        2073 non-null   object \n 13  doggo                       2073 non-null   object \n 14  floofer                     2073 non-null   object \n 15  pupper                      2073 non-null   object \n 16  puppo                       2073 non-null   object \n 17  jpg_url                     2073 non-null   object \n 18  img_num                     2073 non-null   int64  \n 19  breed                       2073 non-null   object \n 20  dog_confidence              2073 non-null   float64\n 21  is_dog                      2073 non-null   bool   \n 22  p2                          2073 non-null   object \n 23  p2_conf                     2073 non-null   float64\n 24  p2_dog                      2073 non-null   bool   \n 25  p3                          2073 non-null   object \n 26  p3_conf                     2073 non-null   float64\n 27  p3_dog                      2073 non-null   bool   \n 28  retweet_count               2073 non-null   int64  \n 29  favorite_count              2073 non-null   int64  \ndtypes: bool(3), float64(7), int64(6), object(14)\nmemory usage: 330.0+ KB\n",
          "output_type": "stream"
        }
      ]
    },
    {
      "cell_type": "code",
      "source": "df = df[['timestamp', 'breed', 'is_dog', 'dog_confidence', 'favorite_count']]",
      "metadata": {
        "trusted": true
      },
      "execution_count": 190,
      "outputs": []
    },
    {
      "cell_type": "code",
      "source": "df.head()",
      "metadata": {
        "trusted": true
      },
      "execution_count": 201,
      "outputs": [
        {
          "execution_count": 201,
          "output_type": "execute_result",
          "data": {
            "text/plain": "                   timestamp        breed  is_dog  dog_confidence  \\\n0  2017-08-01 16:23:56 +0000       orange   False        0.097049   \n1  2017-08-01 00:17:27 +0000    Chihuahua    True        0.323581   \n2  2017-07-31 00:18:03 +0000    Chihuahua    True        0.716012   \n3  2017-07-30 15:58:51 +0000  paper_towel   False        0.170278   \n4  2017-07-29 16:00:24 +0000       basset    True        0.555712   \n\n   favorite_count  popular  famous  \n0           39467     True   10533  \n1           33819     True   16181  \n2           25461    False   24539  \n3           42908     True    7092  \n4           41048     True    8952  ",
            "text/html": "<div>\n<style scoped>\n    .dataframe tbody tr th:only-of-type {\n        vertical-align: middle;\n    }\n\n    .dataframe tbody tr th {\n        vertical-align: top;\n    }\n\n    .dataframe thead th {\n        text-align: right;\n    }\n</style>\n<table border=\"1\" class=\"dataframe\">\n  <thead>\n    <tr style=\"text-align: right;\">\n      <th></th>\n      <th>timestamp</th>\n      <th>breed</th>\n      <th>is_dog</th>\n      <th>dog_confidence</th>\n      <th>favorite_count</th>\n      <th>popular</th>\n      <th>famous</th>\n    </tr>\n  </thead>\n  <tbody>\n    <tr>\n      <th>0</th>\n      <td>2017-08-01 16:23:56 +0000</td>\n      <td>orange</td>\n      <td>False</td>\n      <td>0.097049</td>\n      <td>39467</td>\n      <td>True</td>\n      <td>10533</td>\n    </tr>\n    <tr>\n      <th>1</th>\n      <td>2017-08-01 00:17:27 +0000</td>\n      <td>Chihuahua</td>\n      <td>True</td>\n      <td>0.323581</td>\n      <td>33819</td>\n      <td>True</td>\n      <td>16181</td>\n    </tr>\n    <tr>\n      <th>2</th>\n      <td>2017-07-31 00:18:03 +0000</td>\n      <td>Chihuahua</td>\n      <td>True</td>\n      <td>0.716012</td>\n      <td>25461</td>\n      <td>False</td>\n      <td>24539</td>\n    </tr>\n    <tr>\n      <th>3</th>\n      <td>2017-07-30 15:58:51 +0000</td>\n      <td>paper_towel</td>\n      <td>False</td>\n      <td>0.170278</td>\n      <td>42908</td>\n      <td>True</td>\n      <td>7092</td>\n    </tr>\n    <tr>\n      <th>4</th>\n      <td>2017-07-29 16:00:24 +0000</td>\n      <td>basset</td>\n      <td>True</td>\n      <td>0.555712</td>\n      <td>41048</td>\n      <td>True</td>\n      <td>8952</td>\n    </tr>\n  </tbody>\n</table>\n</div>"
          },
          "metadata": {}
        }
      ]
    },
    {
      "cell_type": "code",
      "source": "df.isnull().sum()",
      "metadata": {
        "trusted": true
      },
      "execution_count": 204,
      "outputs": [
        {
          "execution_count": 204,
          "output_type": "execute_result",
          "data": {
            "text/plain": "timestamp         0\nbreed             0\nis_dog            0\ndog_confidence    0\nfavorite_count    0\npopular           0\nfamous            0\ndtype: int64"
          },
          "metadata": {}
        }
      ]
    },
    {
      "cell_type": "code",
      "source": "df['popular']=  df['favorite_count'] > 30000",
      "metadata": {
        "trusted": true
      },
      "execution_count": 205,
      "outputs": []
    },
    {
      "cell_type": "code",
      "source": "df.head()",
      "metadata": {
        "trusted": true
      },
      "execution_count": 206,
      "outputs": [
        {
          "execution_count": 206,
          "output_type": "execute_result",
          "data": {
            "text/plain": "                   timestamp        breed  is_dog  dog_confidence  \\\n0  2017-08-01 16:23:56 +0000       orange   False        0.097049   \n1  2017-08-01 00:17:27 +0000    Chihuahua    True        0.323581   \n2  2017-07-31 00:18:03 +0000    Chihuahua    True        0.716012   \n3  2017-07-30 15:58:51 +0000  paper_towel   False        0.170278   \n4  2017-07-29 16:00:24 +0000       basset    True        0.555712   \n\n   favorite_count  popular  famous  \n0           39467     True   10533  \n1           33819     True   16181  \n2           25461    False   24539  \n3           42908     True    7092  \n4           41048     True    8952  ",
            "text/html": "<div>\n<style scoped>\n    .dataframe tbody tr th:only-of-type {\n        vertical-align: middle;\n    }\n\n    .dataframe tbody tr th {\n        vertical-align: top;\n    }\n\n    .dataframe thead th {\n        text-align: right;\n    }\n</style>\n<table border=\"1\" class=\"dataframe\">\n  <thead>\n    <tr style=\"text-align: right;\">\n      <th></th>\n      <th>timestamp</th>\n      <th>breed</th>\n      <th>is_dog</th>\n      <th>dog_confidence</th>\n      <th>favorite_count</th>\n      <th>popular</th>\n      <th>famous</th>\n    </tr>\n  </thead>\n  <tbody>\n    <tr>\n      <th>0</th>\n      <td>2017-08-01 16:23:56 +0000</td>\n      <td>orange</td>\n      <td>False</td>\n      <td>0.097049</td>\n      <td>39467</td>\n      <td>True</td>\n      <td>10533</td>\n    </tr>\n    <tr>\n      <th>1</th>\n      <td>2017-08-01 00:17:27 +0000</td>\n      <td>Chihuahua</td>\n      <td>True</td>\n      <td>0.323581</td>\n      <td>33819</td>\n      <td>True</td>\n      <td>16181</td>\n    </tr>\n    <tr>\n      <th>2</th>\n      <td>2017-07-31 00:18:03 +0000</td>\n      <td>Chihuahua</td>\n      <td>True</td>\n      <td>0.716012</td>\n      <td>25461</td>\n      <td>False</td>\n      <td>24539</td>\n    </tr>\n    <tr>\n      <th>3</th>\n      <td>2017-07-30 15:58:51 +0000</td>\n      <td>paper_towel</td>\n      <td>False</td>\n      <td>0.170278</td>\n      <td>42908</td>\n      <td>True</td>\n      <td>7092</td>\n    </tr>\n    <tr>\n      <th>4</th>\n      <td>2017-07-29 16:00:24 +0000</td>\n      <td>basset</td>\n      <td>True</td>\n      <td>0.555712</td>\n      <td>41048</td>\n      <td>True</td>\n      <td>8952</td>\n    </tr>\n  </tbody>\n</table>\n</div>"
          },
          "metadata": {}
        }
      ]
    },
    {
      "cell_type": "code",
      "source": "df['famous']= 50000 - df['favorite_count'] ",
      "metadata": {
        "trusted": true
      },
      "execution_count": 207,
      "outputs": []
    },
    {
      "cell_type": "code",
      "source": "df.head()",
      "metadata": {
        "trusted": true
      },
      "execution_count": 208,
      "outputs": [
        {
          "execution_count": 208,
          "output_type": "execute_result",
          "data": {
            "text/plain": "                   timestamp        breed  is_dog  dog_confidence  \\\n0  2017-08-01 16:23:56 +0000       orange   False        0.097049   \n1  2017-08-01 00:17:27 +0000    Chihuahua    True        0.323581   \n2  2017-07-31 00:18:03 +0000    Chihuahua    True        0.716012   \n3  2017-07-30 15:58:51 +0000  paper_towel   False        0.170278   \n4  2017-07-29 16:00:24 +0000       basset    True        0.555712   \n\n   favorite_count  popular  famous  \n0           39467     True   10533  \n1           33819     True   16181  \n2           25461    False   24539  \n3           42908     True    7092  \n4           41048     True    8952  ",
            "text/html": "<div>\n<style scoped>\n    .dataframe tbody tr th:only-of-type {\n        vertical-align: middle;\n    }\n\n    .dataframe tbody tr th {\n        vertical-align: top;\n    }\n\n    .dataframe thead th {\n        text-align: right;\n    }\n</style>\n<table border=\"1\" class=\"dataframe\">\n  <thead>\n    <tr style=\"text-align: right;\">\n      <th></th>\n      <th>timestamp</th>\n      <th>breed</th>\n      <th>is_dog</th>\n      <th>dog_confidence</th>\n      <th>favorite_count</th>\n      <th>popular</th>\n      <th>famous</th>\n    </tr>\n  </thead>\n  <tbody>\n    <tr>\n      <th>0</th>\n      <td>2017-08-01 16:23:56 +0000</td>\n      <td>orange</td>\n      <td>False</td>\n      <td>0.097049</td>\n      <td>39467</td>\n      <td>True</td>\n      <td>10533</td>\n    </tr>\n    <tr>\n      <th>1</th>\n      <td>2017-08-01 00:17:27 +0000</td>\n      <td>Chihuahua</td>\n      <td>True</td>\n      <td>0.323581</td>\n      <td>33819</td>\n      <td>True</td>\n      <td>16181</td>\n    </tr>\n    <tr>\n      <th>2</th>\n      <td>2017-07-31 00:18:03 +0000</td>\n      <td>Chihuahua</td>\n      <td>True</td>\n      <td>0.716012</td>\n      <td>25461</td>\n      <td>False</td>\n      <td>24539</td>\n    </tr>\n    <tr>\n      <th>3</th>\n      <td>2017-07-30 15:58:51 +0000</td>\n      <td>paper_towel</td>\n      <td>False</td>\n      <td>0.170278</td>\n      <td>42908</td>\n      <td>True</td>\n      <td>7092</td>\n    </tr>\n    <tr>\n      <th>4</th>\n      <td>2017-07-29 16:00:24 +0000</td>\n      <td>basset</td>\n      <td>True</td>\n      <td>0.555712</td>\n      <td>41048</td>\n      <td>True</td>\n      <td>8952</td>\n    </tr>\n  </tbody>\n</table>\n</div>"
          },
          "metadata": {}
        }
      ]
    },
    {
      "cell_type": "code",
      "source": "df.groupby('breed')['dog_confidence'].agg(['mean', 'min', 'max'])",
      "metadata": {
        "trusted": true
      },
      "execution_count": 209,
      "outputs": [
        {
          "execution_count": 209,
          "output_type": "execute_result",
          "data": {
            "text/plain": "                         mean       min       max\nbreed                                            \nAfghan_hound         0.394129  0.123529  0.903712\nAfrican_crocodile    0.330625  0.330625  0.330625\nAfrican_grey         0.270468  0.270468  0.270468\nAfrican_hunting_dog  0.733025  0.733025  0.733025\nAiredale             0.583771  0.168762  0.945362\n...                       ...       ...       ...\nwombat               0.697833  0.462952  0.880257\nwood_rabbit          0.619014  0.368562  0.785756\nwooden_spoon         0.082489  0.082489  0.082489\nwool                 0.297755  0.070076  0.525434\nzebra                0.997673  0.997673  0.997673\n\n[378 rows x 3 columns]",
            "text/html": "<div>\n<style scoped>\n    .dataframe tbody tr th:only-of-type {\n        vertical-align: middle;\n    }\n\n    .dataframe tbody tr th {\n        vertical-align: top;\n    }\n\n    .dataframe thead th {\n        text-align: right;\n    }\n</style>\n<table border=\"1\" class=\"dataframe\">\n  <thead>\n    <tr style=\"text-align: right;\">\n      <th></th>\n      <th>mean</th>\n      <th>min</th>\n      <th>max</th>\n    </tr>\n    <tr>\n      <th>breed</th>\n      <th></th>\n      <th></th>\n      <th></th>\n    </tr>\n  </thead>\n  <tbody>\n    <tr>\n      <th>Afghan_hound</th>\n      <td>0.394129</td>\n      <td>0.123529</td>\n      <td>0.903712</td>\n    </tr>\n    <tr>\n      <th>African_crocodile</th>\n      <td>0.330625</td>\n      <td>0.330625</td>\n      <td>0.330625</td>\n    </tr>\n    <tr>\n      <th>African_grey</th>\n      <td>0.270468</td>\n      <td>0.270468</td>\n      <td>0.270468</td>\n    </tr>\n    <tr>\n      <th>African_hunting_dog</th>\n      <td>0.733025</td>\n      <td>0.733025</td>\n      <td>0.733025</td>\n    </tr>\n    <tr>\n      <th>Airedale</th>\n      <td>0.583771</td>\n      <td>0.168762</td>\n      <td>0.945362</td>\n    </tr>\n    <tr>\n      <th>...</th>\n      <td>...</td>\n      <td>...</td>\n      <td>...</td>\n    </tr>\n    <tr>\n      <th>wombat</th>\n      <td>0.697833</td>\n      <td>0.462952</td>\n      <td>0.880257</td>\n    </tr>\n    <tr>\n      <th>wood_rabbit</th>\n      <td>0.619014</td>\n      <td>0.368562</td>\n      <td>0.785756</td>\n    </tr>\n    <tr>\n      <th>wooden_spoon</th>\n      <td>0.082489</td>\n      <td>0.082489</td>\n      <td>0.082489</td>\n    </tr>\n    <tr>\n      <th>wool</th>\n      <td>0.297755</td>\n      <td>0.070076</td>\n      <td>0.525434</td>\n    </tr>\n    <tr>\n      <th>zebra</th>\n      <td>0.997673</td>\n      <td>0.997673</td>\n      <td>0.997673</td>\n    </tr>\n  </tbody>\n</table>\n<p>378 rows × 3 columns</p>\n</div>"
          },
          "metadata": {}
        }
      ]
    }
  ]
}